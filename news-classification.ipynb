{
 "cells": [
  {
   "cell_type": "code",
   "execution_count": 19,
   "id": "62f274f7",
   "metadata": {},
   "outputs": [],
   "source": [
    "import nltk"
   ]
  },
  {
   "cell_type": "code",
   "execution_count": 20,
   "id": "8fc910bc",
   "metadata": {},
   "outputs": [],
   "source": [
    "#nltk.download()"
   ]
  },
  {
   "cell_type": "code",
   "execution_count": 21,
   "id": "a06a1f4d",
   "metadata": {},
   "outputs": [],
   "source": [
    "import pandas as pd"
   ]
  },
  {
   "cell_type": "code",
   "execution_count": 22,
   "id": "8ea1d141",
   "metadata": {},
   "outputs": [],
   "source": [
    "fake = pd.read_csv('Fake.csv')\n",
    "genuine = pd.read_csv('True.csv')"
   ]
  },
  {
   "cell_type": "code",
   "execution_count": 23,
   "id": "bee1abf9",
   "metadata": {},
   "outputs": [
    {
     "data": {
      "text/plain": [
       "News               9050\n",
       "politics           6841\n",
       "left-news          4459\n",
       "Government News    1570\n",
       "US_News             783\n",
       "Middle-east         778\n",
       "Name: subject, dtype: int64"
      ]
     },
     "metadata": {},
     "output_type": "display_data"
    }
   ],
   "source": [
    "display(fake.subject.value_counts())"
   ]
  },
  {
   "cell_type": "code",
   "execution_count": 24,
   "id": "5a850d92",
   "metadata": {},
   "outputs": [],
   "source": [
    "fake['target'] = 0\n",
    "genuine['target'] = 1"
   ]
  },
  {
   "cell_type": "code",
   "execution_count": 25,
   "id": "4ef3b78b",
   "metadata": {},
   "outputs": [],
   "source": [
    "data = pd.concat([fake, genuine], axis = 0) #concat fake and genuine"
   ]
  },
  {
   "cell_type": "code",
   "execution_count": 26,
   "id": "4198ba77",
   "metadata": {},
   "outputs": [],
   "source": [
    "data = data.reset_index(drop = True) # reset index"
   ]
  },
  {
   "cell_type": "code",
   "execution_count": 27,
   "id": "477d289e",
   "metadata": {},
   "outputs": [],
   "source": [
    "data = data.drop(['subject', 'date', 'title'], axis = 1)"
   ]
  },
  {
   "cell_type": "markdown",
   "id": "ad991752",
   "metadata": {},
   "source": [
    "# Tokenization"
   ]
  },
  {
   "cell_type": "code",
   "execution_count": 28,
   "id": "a96fdda0",
   "metadata": {},
   "outputs": [],
   "source": [
    "from nltk.tokenize import word_tokenize"
   ]
  },
  {
   "cell_type": "code",
   "execution_count": 29,
   "id": "f3aeadba",
   "metadata": {},
   "outputs": [],
   "source": [
    "data['text'] = data['text'].apply(word_tokenize)"
   ]
  },
  {
   "cell_type": "markdown",
   "id": "f583cf8c",
   "metadata": {},
   "source": [
    "# Stemming"
   ]
  },
  {
   "cell_type": "code",
   "execution_count": 30,
   "id": "e27803bd",
   "metadata": {},
   "outputs": [],
   "source": [
    "from nltk.stem.snowball import SnowballStemmer\n",
    "porter = SnowballStemmer(\"english\")"
   ]
  },
  {
   "cell_type": "code",
   "execution_count": 31,
   "id": "36368ea2",
   "metadata": {},
   "outputs": [],
   "source": [
    "def stem_it(text):\n",
    "    return [porter.stem(word) for word in text]"
   ]
  },
  {
   "cell_type": "code",
   "execution_count": 32,
   "id": "732ab78f",
   "metadata": {},
   "outputs": [],
   "source": [
    "data['text'] = data['text'].apply(stem_it)"
   ]
  },
  {
   "cell_type": "markdown",
   "id": "3533e9e8",
   "metadata": {},
   "source": [
    "# Stopword removal"
   ]
  },
  {
   "cell_type": "code",
   "execution_count": 33,
   "id": "2ad35505",
   "metadata": {},
   "outputs": [],
   "source": [
    "def stop_it(t):\n",
    "    dt = [word for word in t if len(word)>2]\n",
    "    return dt"
   ]
  },
  {
   "cell_type": "code",
   "execution_count": 34,
   "id": "88e5a433",
   "metadata": {},
   "outputs": [],
   "source": [
    "data['text'] = data['text'].apply(stop_it)"
   ]
  },
  {
   "cell_type": "code",
   "execution_count": 35,
   "id": "a1f681c3",
   "metadata": {},
   "outputs": [
    {
     "name": "stdout",
     "output_type": "stream",
     "text": [
      "                                                text  target\n",
      "0  [donald, trump, just, couldn, wish, all, ameri...       0\n",
      "1  [hous, intellig, committe, chairman, devin, nu...       0\n",
      "2  [friday, was, reveal, that, former, milwauke, ...       0\n",
      "3  [christma, day, donald, trump, announc, that, ...       0\n",
      "4  [pope, franci, use, his, annual, christma, day...       0\n",
      "5  [the, number, case, cop, brutal, and, kill, pe...       0\n",
      "6  [donald, trump, spent, good, portion, his, day...       0\n",
      "7  [the, wake, yet, anoth, court, decis, that, de...       0\n",
      "8  [mani, peopl, have, rais, the, alarm, regard, ...       0\n",
      "9  [just, when, you, might, have, thought, get, b...       0\n"
     ]
    }
   ],
   "source": [
    "print(data.head(10))"
   ]
  },
  {
   "cell_type": "code",
   "execution_count": 36,
   "id": "55dc8223",
   "metadata": {},
   "outputs": [],
   "source": [
    "data['text'] = data['text'].apply(' '.join)"
   ]
  },
  {
   "cell_type": "markdown",
   "id": "0dd27d5d",
   "metadata": {},
   "source": [
    "# Splitting"
   ]
  },
  {
   "cell_type": "code",
   "execution_count": 37,
   "id": "8a530e0f",
   "metadata": {},
   "outputs": [],
   "source": [
    "from sklearn.model_selection import train_test_split"
   ]
  },
  {
   "cell_type": "code",
   "execution_count": 38,
   "id": "9586ff63",
   "metadata": {},
   "outputs": [],
   "source": [
    "x_train, x_test, y_train, y_test = train_test_split(data['text'], data['target'])"
   ]
  },
  {
   "cell_type": "markdown",
   "id": "510ffd80",
   "metadata": {},
   "source": [
    "# Vectorization"
   ]
  },
  {
   "cell_type": "code",
   "execution_count": 39,
   "id": "2bb08bad",
   "metadata": {},
   "outputs": [],
   "source": [
    "from sklearn.feature_extraction.text import TfidfVectorizer"
   ]
  },
  {
   "cell_type": "code",
   "execution_count": 40,
   "id": "bd24bf1a",
   "metadata": {},
   "outputs": [],
   "source": [
    "my_tfidf = TfidfVectorizer(max_df = 0.7)"
   ]
  },
  {
   "cell_type": "code",
   "execution_count": 41,
   "id": "850f953e",
   "metadata": {},
   "outputs": [],
   "source": [
    "tfidf_train = my_tfidf.fit_transform(x_train)\n",
    "tfidf_test = my_tfidf.transform(x_test)"
   ]
  },
  {
   "cell_type": "code",
   "execution_count": 42,
   "id": "f027f97b",
   "metadata": {},
   "outputs": [
    {
     "name": "stdout",
     "output_type": "stream",
     "text": [
      "  (0, 17791)\t0.010783769067692022\n",
      "  (0, 26078)\t0.034521580346453855\n",
      "  (0, 39808)\t0.012654413973152293\n",
      "  (0, 68259)\t0.025367961781028403\n",
      "  (0, 41129)\t0.017360152155696064\n",
      "  (0, 44477)\t0.023808603114881952\n",
      "  (0, 82316)\t0.011449886374490067\n",
      "  (0, 86893)\t0.021863099272296738\n",
      "  (0, 65672)\t0.019468408832810615\n",
      "  (0, 10694)\t0.10111534276837832\n",
      "  (0, 53750)\t0.04453819227928012\n",
      "  (0, 87944)\t0.012667690954218061\n",
      "  (0, 25423)\t0.03704487264246641\n",
      "  (0, 69056)\t0.0176779376739509\n",
      "  (0, 37558)\t0.05480518637747805\n",
      "  (0, 74042)\t0.04640370491278206\n",
      "  (0, 67756)\t0.033272910444685985\n",
      "  (0, 78055)\t0.015134274809446728\n",
      "  (0, 3519)\t0.0291474540464965\n",
      "  (0, 71267)\t0.015646552352832917\n",
      "  (0, 74000)\t0.016134951170604143\n",
      "  (0, 7561)\t0.013571539638938163\n",
      "  (0, 64622)\t0.021757326769625492\n",
      "  (0, 64859)\t0.02184371541008069\n",
      "  (0, 66152)\t0.026331459958566467\n",
      "  :\t:\n",
      "  (33672, 48348)\t0.018808170254053624\n",
      "  (33672, 67147)\t0.012887035772915908\n",
      "  (33672, 22365)\t0.00947132530272064\n",
      "  (33672, 89832)\t0.018035086137596277\n",
      "  (33672, 76556)\t0.009305298764685676\n",
      "  (33672, 74320)\t0.031227388596560945\n",
      "  (33672, 35075)\t0.04495943550592833\n",
      "  (33672, 37887)\t0.03680444496710233\n",
      "  (33672, 8269)\t0.03926123194322073\n",
      "  (33672, 37746)\t0.049170144688752554\n",
      "  (33672, 51102)\t0.02133626201477393\n",
      "  (33672, 33317)\t0.0186728574549802\n",
      "  (33672, 28566)\t0.009884184134930953\n",
      "  (33672, 17199)\t0.013425273087713446\n",
      "  (33672, 7393)\t0.014708598977620347\n",
      "  (33672, 81533)\t0.006397884082888361\n",
      "  (33672, 64600)\t0.031872694226981337\n",
      "  (33672, 70057)\t0.029792567258453792\n",
      "  (33672, 77677)\t0.0076303073453994185\n",
      "  (33672, 38023)\t0.026964000243888234\n",
      "  (33672, 68816)\t0.015504931885824545\n",
      "  (33672, 89185)\t0.007540450113339331\n",
      "  (33672, 65494)\t0.014574177399724842\n",
      "  (33672, 88851)\t0.016563708978718384\n",
      "  (33672, 69671)\t0.015307889400904164\n"
     ]
    }
   ],
   "source": [
    "print(tfidf_train)"
   ]
  },
  {
   "cell_type": "markdown",
   "id": "bd0d2f95",
   "metadata": {},
   "source": [
    "# Logistic regression"
   ]
  },
  {
   "cell_type": "code",
   "execution_count": 43,
   "id": "525a4c3d",
   "metadata": {},
   "outputs": [],
   "source": [
    "from sklearn.linear_model import LogisticRegression\n",
    "from sklearn.tree import DecisionTreeClassifier\n",
    "from sklearn.metrics import accuracy_score"
   ]
  },
  {
   "cell_type": "code",
   "execution_count": 44,
   "id": "958e51d9",
   "metadata": {},
   "outputs": [
    {
     "name": "stdout",
     "output_type": "stream",
     "text": [
      "98.8596881959911\n"
     ]
    }
   ],
   "source": [
    "model_1 = LogisticRegression(max_iter=900)\n",
    "model_1.fit(tfidf_train, y_train)\n",
    "pred_1 = model_1.predict(tfidf_test)\n",
    "cr1 = accuracy_score(y_test,pred_1)\n",
    "print(cr1*100)"
   ]
  },
  {
   "cell_type": "markdown",
   "id": "1b5afbee",
   "metadata": {},
   "source": [
    "# PassiveAggressiveClassifier"
   ]
  },
  {
   "cell_type": "code",
   "execution_count": 45,
   "id": "8afc9a3a",
   "metadata": {},
   "outputs": [
    {
     "data": {
      "text/plain": [
       "PassiveAggressiveClassifier(max_iter=50)"
      ]
     },
     "execution_count": 45,
     "metadata": {},
     "output_type": "execute_result"
    }
   ],
   "source": [
    "from sklearn.linear_model import PassiveAggressiveClassifier\n",
    "model = PassiveAggressiveClassifier(max_iter=50)\n",
    "model.fit(tfidf_train, y_train)"
   ]
  },
  {
   "cell_type": "code",
   "execution_count": 46,
   "id": "5e363111",
   "metadata": {},
   "outputs": [
    {
     "name": "stdout",
     "output_type": "stream",
     "text": [
      "The accuracy of prediction is  99.6792873051225\n"
     ]
    }
   ],
   "source": [
    "y_pred = model.predict(tfidf_test)\n",
    "accscore = accuracy_score(y_test, y_pred)\n",
    "print('The accuracy of prediction is ', accscore*100)"
   ]
  },
  {
   "cell_type": "code",
   "execution_count": null,
   "id": "002c8868",
   "metadata": {},
   "outputs": [],
   "source": []
  }
 ],
 "metadata": {
  "kernelspec": {
   "display_name": "Python 3 (ipykernel)",
   "language": "python",
   "name": "python3"
  },
  "language_info": {
   "codemirror_mode": {
    "name": "ipython",
    "version": 3
   },
   "file_extension": ".py",
   "mimetype": "text/x-python",
   "name": "python",
   "nbconvert_exporter": "python",
   "pygments_lexer": "ipython3",
   "version": "3.8.2"
  }
 },
 "nbformat": 4,
 "nbformat_minor": 5
}
